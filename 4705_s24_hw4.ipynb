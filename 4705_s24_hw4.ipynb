{
 "cells": [
  {
   "cell_type": "markdown",
   "id": "6703077a",
   "metadata": {},
   "source": [
    "# COMS W4705 Spring 24\n",
    "## Homework 4 - Semantic Role Labelling with BERT\n",
    "\n",
    "The goal of this assignment is to train and evaluate a PropBank-style semantic role labeling (SRL) system. Following (Collobert et al. 2011) and others, we will treat this problem as a sequence-labeling task. For each input token, the system will predict a B-I-O tag, as illustrated in the following example: \n",
    "\n",
    "|The|judge|scheduled|to|preside|over|his|trial|was|removed|from|the|case|today|.|             \n",
    "|---|-----|---------|--|-------|----|---|-----|---|-------|----|---|----|-----|-|             \n",
    "|B-ARG1|I-ARG1|B-V|B-ARG2|I-ARG2|I-ARG2|I-ARG2|I-ARG2|O|O|O|O|O|O|O|\n",
    "|||schedule.01|||||||||||||\n",
    "\n",
    "Note that the same sentence may have multiple annotations for different predicates\n",
    "\n",
    "|The|judge|scheduled|to|preside|over|his|trial|was|removed|from|the|case|today|.|             \n",
    "|---|-----|---------|--|-------|----|---|-----|---|-------|----|---|----|-----|-|             \n",
    "|B-ARG1|I-ARG1|I-ARG1|I-ARG1|I-ARG1|I-ARG1|I-ARG1|I-ARG1|O|B-V|B-ARG2|I-ARG2|I-ARG2|B-ARGM-TMP|O|\n",
    "||||||||||remove.01||||||\n",
    "\n",
    "and not all predicates need to be verbs\n",
    "\n",
    "|The|judge|scheduled|to|preside|over|his|trial|was|removed|from|the|case|today|.|             \n",
    "|---|-----|---------|--|-------|----|---|-----|---|-------|----|---|----|-----|-|    \n",
    "|O|O|O|O|O|O|B-ARG1|B-V|O|O|O|O|O|O|O|\n",
    "||||||||try.02||||||||\n",
    "\n",
    "The SRL system will be implemented in [PyTorch](https://pytorch.org/). We will use BERT (in the implementation provided by the [Huggingface transformers](https://huggingface.co/docs/transformers/index) library) to compute contextualized token representations and a custom classification head to predict semantic roles. We will fine-tune the pretrained BERT model on the SRL task. \n"
   ]
  },
  {
   "cell_type": "markdown",
   "id": "ff12fe94",
   "metadata": {},
   "source": [
    "### Overview of the Approach\n",
    "\n",
    "The model we will train is pretty straightforward. Essentially, we will just encode the sentence with BERT, then take the contextualized embedding for each token and feed it into a classifier to predict the corresponding tag. \n",
    "\n",
    "Because we are only working on argument identification and labeling (not predicate identification), it is essentially that we tell the model where the predicate is. This can be accomplished in various ways. The approach we will choose here repurposes Bert's *segment embeddings*. \n",
    "\n",
    "Recall that BERT is trained on two input sentences, seperated by [SEP], and on a next-sentence-prediction objective (in addition to the masked LM objective). To help BERT comprehend which sentence a given token belongs to, the original BERT uses a segment embedding, using A for the first sentene, and B for the second sentence 2. \n",
    "Because we are labeling only a single sentence at a time, we can use the segment embeddings to indicate the predicate position instead: The predicate is labeled as segment B (1) and all other tokens will be labeled as segment A (0). \n",
    "\n",
    "<img src=\"https://github.com/daniel-bauer/4705-f23-hw5/blob/main/bert_srl_model.png?raw=true\" width=400px>"
   ]
  },
  {
   "cell_type": "markdown",
   "id": "68325e53",
   "metadata": {},
   "source": [
    "## Setup: GCP, Jupyter, PyTorch, GPU\n",
    "\n",
    "To make sure that PyTorch is available and can use the GPU,run the following cell which should return True. If it doesn't, make sure the GPU drivers and CUDA are installed correctly. \n",
    "\n",
    "GPU support is required for this assignment -- you will not be able to fine-tune BERT on a CPU. "
   ]
  },
  {
   "cell_type": "code",
   "execution_count": 1,
   "id": "aad94eef",
   "metadata": {},
   "outputs": [
    {
     "data": {
      "text/plain": [
       "True"
      ]
     },
     "execution_count": 1,
     "metadata": {},
     "output_type": "execute_result"
    }
   ],
   "source": [
    "import torch\n",
    "torch.cuda.is_available() "
   ]
  },
  {
   "cell_type": "markdown",
   "id": "3fe1c8ac",
   "metadata": {},
   "source": [
    "## Dataset: Ontonotes 5.0 English SRL annotations\n",
    "\n",
    "We will work with the English part of the [Ontonotes 5.0](https://catalog.ldc.upenn.edu/LDC2013T19) data. This is an extension of PropBank, using the same type of annotation. Ontonotes contains annotations other than predicate/argument structures, but we will use the PropBank style SRL annotations only. *Important*: This data set is provided to you for use in COMS 4705 only! Columbia is a subscriber to LDC and is allowed to use the data for educational purposes. However, you may not use the dataset in projects unrelated to Columbia teaching or research.\n",
    "\n",
    "If you haven't done so already, you can download the data here: \n"
   ]
  },
  {
   "cell_type": "code",
   "execution_count": null,
   "id": "0c2f2645",
   "metadata": {},
   "outputs": [],
   "source": [
    "! wget https://storage.googleapis.com/4705-bert-srl-data/ontonotes_srl.zip    "
   ]
  },
  {
   "cell_type": "code",
   "execution_count": null,
   "id": "14aad58e",
   "metadata": {},
   "outputs": [],
   "source": [
    "! unzip ontonotes_srl.zip    "
   ]
  },
  {
   "cell_type": "markdown",
   "id": "8cae08a9",
   "metadata": {},
   "source": [
    "The data has been pre-processed in the following format. There are three files: \n",
    "\n",
    "`propbank_dev.tsv`\t`propbank_test.tsv`\t`propbank_train.tsv`\n",
    "\n",
    "Each of these files is in a tab-separated value format. A single predicate/argument structure annotation consists of four rows. For example \n",
    "\n",
    "```\n",
    "ontonotes/bc/cnn/00/cnn_0000.152.1\n",
    "The     judge   scheduled       to      preside over    his     trial   was     removed from    the     case    today   /.\n",
    "                schedule.01\n",
    "B-ARG1  I-ARG1  B-V     B-ARG2  I-ARG2  I-ARG2  I-ARG2  I-ARG2  O       O       O       O       O       O       O\n",
    "```\n",
    "\n",
    "* The first row is a unique identifier (1st annotation of the 152nd sentence in the file ontonotes/bc/cnn/00/cnn_0000).\n",
    "* The second row contains the tokens of the sentence (tab-separated). \n",
    "* The third row contains the probank frame name for the predicate (empty field for all other tokens). \n",
    "* The fourth row contains the B-I-O tag for each token. \n",
    "\n",
    "The file `rolelist.txt` contains a list of propbank BIO labels in the dataset (i.e. possible output tokens). This list has been filtered to contain only roles that appeared more than 1000 times in the training data. \n",
    "We will load this list and create mappings from numeric ids to BIO tags and back."
   ]
  },
  {
   "cell_type": "code",
   "execution_count": 2,
   "id": "dc4c027a",
   "metadata": {},
   "outputs": [],
   "source": [
    "role_to_id = {}\n",
    "with open(\"role_list.txt\",'r') as f:\n",
    "    role_list = [x.strip() for x in f.readlines()]\n",
    "    role_to_id = dict((role, index) for (index, role) in enumerate(role_list))\n",
    "    role_to_id['[PAD]'] = -100\n",
    "    \n",
    "    id_to_role = dict((index, role) for (role, index) in role_to_id.items())\n",
    "    "
   ]
  },
  {
   "cell_type": "markdown",
   "id": "f07cdf31",
   "metadata": {},
   "source": [
    "Note that we are also mapping the '[PAD]' token to the value -100. This allows the loss function to ignore these tokens during training."
   ]
  },
  {
   "cell_type": "markdown",
   "id": "88096be5",
   "metadata": {},
   "source": [
    "\n",
    "\n"
   ]
  },
  {
   "cell_type": "markdown",
   "id": "aae727bf",
   "metadata": {},
   "source": [
    "## Part 1 - Data Preparation\n",
    "\n",
    "Before you can build the SRL model, you first need to preprocess the data. \n",
    "\n",
    "\n",
    "### 1.1 - Tokenization \n",
    "\n",
    "One challenge is that the pre-trained BERT model uses subword (\"WordPiece\") tokenization, but the Ontonotes data does not. Fortunately Huggingface transformers provides a tokenizer. "
   ]
  },
  {
   "cell_type": "code",
   "execution_count": 3,
   "id": "8a2d7d03",
   "metadata": {},
   "outputs": [
    {
     "data": {
      "text/plain": [
       "['this',\n",
       " 'is',\n",
       " 'an',\n",
       " 'un',\n",
       " '##bel',\n",
       " '##ie',\n",
       " '##va',\n",
       " '##bly',\n",
       " 'boring',\n",
       " 'test',\n",
       " 'sentence',\n",
       " '.']"
      ]
     },
     "execution_count": 3,
     "metadata": {},
     "output_type": "execute_result"
    }
   ],
   "source": [
    "from transformers import BertTokenizerFast \n",
    "tokenizer = BertTokenizerFast.from_pretrained('bert-base-uncased', do_lower_case=True)\n",
    "tokenizer.tokenize(\"This is an unbelievably boring test sentence.\")"
   ]
  },
  {
   "cell_type": "markdown",
   "id": "ac1924bd",
   "metadata": {},
   "source": [
    "**TODO**: \n",
    "We need to be able to maintain the correct labels (B-I-O tags) for each of the subwords. \n",
    "Complete the following function that takes a list of tokens and a list of B-I-O labels of the same length as parameters, and returns a new token / label pair, as illustrated in the following example. \n",
    "\n",
    "\n",
    "```\n",
    ">>> tokenize_with_labels(\"the fancyful penguin devoured yummy fish .\".split(), \"B-ARG0 I-ARG0 I-ARG0 B-V B-ARG1 I-ARG1 O\".split(), tokenizer)\n",
    "(['the',\n",
    "  'fancy',\n",
    "  '##ful',\n",
    "  'penguin',\n",
    "  'dev',\n",
    "  '##oured',\n",
    "  'yu',\n",
    "  '##mmy',\n",
    "  'fish',\n",
    "  '.'],\n",
    " ['B-ARG0',\n",
    "  'I-ARG0',\n",
    "  'I-ARG0',\n",
    "  'I-ARG0',\n",
    "  'B-V',\n",
    "  'I-V',\n",
    "  'B-ARG1',\n",
    "  'I-ARG1',\n",
    "  'I-ARG1',\n",
    "  'O'])\n",
    "\n",
    "```\n",
    "\n",
    "To approach this problem, iterate through each word/label pair in the sentence. Call the tokenizer on the word. This may result in one or more tokens. Create the correct number of labels to match the number of tokens. Take care to not generate multiple B- tokens. \n",
    "\n",
    "\n",
    "This approach is a bit slower than tokenizing the entire sentence, but is necessary to produce proper input tokenization for the pre-trained BERT model, and the matching target labels. "
   ]
  },
  {
   "cell_type": "code",
   "execution_count": 4,
   "id": "8140fc39",
   "metadata": {},
   "outputs": [],
   "source": [
    "def tokenize_with_labels(sentence, text_labels, tokenizer):\n",
    "    \"\"\"\n",
    "    Word piece tokenization makes it difficult to match word labels\n",
    "    back up with individual word pieces. \n",
    "    \"\"\"\n",
    "\n",
    "    tokenized_sentence = []\n",
    "    labels = []\n",
    "    \n",
    "    for word, label in zip(sentence, text_labels):\n",
    "\n",
    "        subwords = tokenizer.tokenize(word)  # Tokenizing the word into subwords\n",
    "        if len(subwords) > 1:\n",
    "            \n",
    "            new_labels = [label if i == 0 else label.replace('B-', 'I-') for i in range(len(subwords))]\n",
    "            \n",
    "        else:\n",
    "            \n",
    "            new_labels = [label]\n",
    "        \n",
    "        tokenized_sentence.extend(subwords)  \n",
    "        labels.extend(new_labels)  # Extending labels to match the new subwords\n",
    "\n",
    "\n",
    "    return tokenized_sentence, labels"
   ]
  },
  {
   "cell_type": "code",
   "execution_count": 5,
   "id": "f748d120",
   "metadata": {},
   "outputs": [
    {
     "data": {
      "text/plain": [
       "(['the',\n",
       "  'fancy',\n",
       "  '##ful',\n",
       "  'penguin',\n",
       "  'dev',\n",
       "  '##oured',\n",
       "  'yu',\n",
       "  '##mmy',\n",
       "  'fish',\n",
       "  '.'],\n",
       " ['B-ARG0',\n",
       "  'I-ARG0',\n",
       "  'I-ARG0',\n",
       "  'I-ARG0',\n",
       "  'B-V',\n",
       "  'I-V',\n",
       "  'B-ARG1',\n",
       "  'I-ARG1',\n",
       "  'I-ARG1',\n",
       "  'O'])"
      ]
     },
     "execution_count": 5,
     "metadata": {},
     "output_type": "execute_result"
    }
   ],
   "source": [
    "tokenize_with_labels(\"the fancyful penguin devoured yummy fish .\".split(), \"B-ARG0 I-ARG0 I-ARG0 B-V B-ARG1 I-ARG1 O\".split(), tokenizer)"
   ]
  },
  {
   "cell_type": "markdown",
   "id": "77bb9076",
   "metadata": {},
   "source": [
    "### 1.2 Loading the Dataset\n",
    "\n",
    "Next, we are creating a PyTorch [Dataset](https://pytorch.org/docs/stable/data.html#torch.utils.data.Dataset) class. This class acts as a contained for the training, development, and testing data in memory. You should already be familiar with Datasets and Dataloaders from homework 3. \n",
    "\n",
    "1.2.1 **TODO**: Write the \\_\\_init\\_\\_(self, filename) method that reads in the data from a data file (specified by the filename).\n",
    "\n",
    "For each annotation you start with  the tokens in the sentence, and the BIO tags. Then you need to create the following \n",
    "\n",
    "1. call the `tokenize_with_labels` function to tokenize the sentence.\n",
    "2. Add the (token, label) pair to the self.items list. \n",
    "\n",
    "1.2.2 **TODO**: Write the \\_\\_len\\_\\_(self) method that returns the total number of items. \n",
    "\n",
    "1.2.3 **TODO**: Write the \\_\\_getitem\\_\\_(self, k) method that returns a single item in a format BERT will understand. \n",
    "* We need to process the sentence by adding \"\\[CLS\\]\" as the first token and \"\\[SEP\\]\" as the last token. The need to pad the token sequence to 128 tokens using the \"\\[PAD\\]\" symbol. This needs to happen both for the inputs (sentence token sequence) and outputs (BIO tag sequence).\n",
    "* We need to create an *attention mask*, which is a sequence of 128 tokens indicating the actual input symbols (as a 1) and \\[PAD\\] symbols (as a 0).\n",
    "* We need to create a *predicate indicator* mask, which is a sequence of 128 tokens with at most one 1, in the position of the \"B-V\" tag. All other entries should be 0. The model will use this information to understand where the predicate is located. \n",
    "\n",
    "* Finally, we need to convert the token and tag sequence into numeric indices. For the tokens, this can be done using the `tokenizer.convert_tokens_to_ids` method. For the tags, use the `role_to_id` dictionary. \n",
    "Each sequence must be a pytorch tensor of shape (1,128). You can convert a list of integer values like this `torch.tensor(token_ids, dtype=torch.long)`.\n",
    "\n",
    "To keep everything organized, we will return a dictionary in the following format \n",
    "\n",
    "```\n",
    "{'ids': token_tensor,\n",
    " 'targets': tag_tensor,\n",
    " 'mask': attention_mask_tensor,\n",
    " 'pred': predicate_indicator_tensor}\n",
    "```\n",
    "\n",
    "\n",
    "(Hint: To debug these, read in the first annotation only / the first few annotations) \n"
   ]
  },
  {
   "cell_type": "code",
   "execution_count": 6,
   "id": "9f5bd32f",
   "metadata": {},
   "outputs": [],
   "source": [
    "from torch.utils.data import Dataset, DataLoader\n",
    "\n",
    "\n",
    "class SrlData(Dataset):\n",
    "    def __init__(self, filename):\n",
    "        super(SrlData, self).__init__()\n",
    "        \n",
    "        self.max_len = 128 # the max number of tokens inputted to the transformer. \n",
    "        \n",
    "        self.tokenizer = BertTokenizerFast.from_pretrained('bert-base-uncased', do_lower_case=True)\n",
    "        \n",
    "        self.items = []\n",
    "\n",
    "        with open(filename, 'r') as file:\n",
    "            while True:\n",
    "                header = file.readline().strip()\n",
    "                if not header:\n",
    "                    break  # End of file\n",
    "                tokens = file.readline().strip().split()\n",
    "                predicate = file.readline().strip()  \n",
    "                labels = file.readline().strip().split()\n",
    "                \n",
    "                # Tokenizing and aligning labels with tokens\n",
    "                tokenized_text, labels = tokenize_with_labels(tokens, labels, self.tokenizer)\n",
    "                if len(tokenized_text) > self.max_len - 2:  # Account for [CLS] and [SEP]\n",
    "                    tokenized_text = tokenized_text[:self.max_len-2]\n",
    "                    labels = labels[:self.max_len-2]\n",
    "\n",
    "                tokenized_text = ['[CLS]'] + tokenized_text + ['[SEP]']\n",
    "                labels = ['O'] + labels + ['O']  # Padding labels correspondingly\n",
    "\n",
    "                self.items.append((tokenized_text, labels))\n",
    "        \n",
    "    def __len__(self):\n",
    "        return len(self.items)\n",
    "    \n",
    "    def __getitem__(self, k):\n",
    "        tokens, labels = self.items[k]\n",
    "        \n",
    "        # Padding tokens and labels to max_len\n",
    "        token_ids = self.tokenizer.convert_tokens_to_ids(tokens)\n",
    "        token_ids += [self.tokenizer.pad_token_id] * (self.max_len - len(token_ids))\n",
    "        attention_mask = [1] * len(tokens) + [0] * (self.max_len - len(tokens))\n",
    "        \n",
    "        label_ids = [role_to_id[label] if label in role_to_id else role_to_id['O'] for label in labels]\n",
    "        label_ids += [role_to_id['O']] * (self.max_len - len(label_ids))\n",
    "        \n",
    "        predicate_indicator = [1 if label == 'B-V' else 0 for label in labels] + [0] * (self.max_len - len(labels))\n",
    "        \n",
    "        return {\n",
    "            'ids': torch.tensor(token_ids, dtype=torch.long),\n",
    "            'mask': torch.tensor(attention_mask, dtype=torch.long),\n",
    "            'targets': torch.tensor(label_ids, dtype=torch.long),\n",
    "            'pred': torch.tensor(predicate_indicator, dtype=torch.long)\n",
    "        }\n",
    "\n",
    "\n"
   ]
  },
  {
   "cell_type": "code",
   "execution_count": 7,
   "id": "da0b476d",
   "metadata": {},
   "outputs": [],
   "source": [
    "# Reading the training data takes a while for the entire data because we preprocess all data offline\n",
    "data = SrlData(\"propbank_train.tsv\")"
   ]
  },
  {
   "cell_type": "code",
   "execution_count": 8,
   "id": "01a6c30b",
   "metadata": {},
   "outputs": [
    {
     "name": "stdout",
     "output_type": "stream",
     "text": [
      "Sample 0:\n",
      "Tokens: ['[CLS]', 'we', 'respectful', '##ly', 'invite', 'you', 'to', 'watch', 'a', 'special', 'edition', 'of', 'across', 'china', '.', '[SEP]', '[PAD]', '[PAD]', '[PAD]', '[PAD]', '[PAD]', '[PAD]', '[PAD]', '[PAD]', '[PAD]', '[PAD]', '[PAD]', '[PAD]', '[PAD]', '[PAD]', '[PAD]', '[PAD]', '[PAD]', '[PAD]', '[PAD]', '[PAD]', '[PAD]', '[PAD]', '[PAD]', '[PAD]', '[PAD]', '[PAD]', '[PAD]', '[PAD]', '[PAD]', '[PAD]', '[PAD]', '[PAD]', '[PAD]', '[PAD]', '[PAD]', '[PAD]', '[PAD]', '[PAD]', '[PAD]', '[PAD]', '[PAD]', '[PAD]', '[PAD]', '[PAD]', '[PAD]', '[PAD]', '[PAD]', '[PAD]', '[PAD]', '[PAD]', '[PAD]', '[PAD]', '[PAD]', '[PAD]', '[PAD]', '[PAD]', '[PAD]', '[PAD]', '[PAD]', '[PAD]', '[PAD]', '[PAD]', '[PAD]', '[PAD]', '[PAD]', '[PAD]', '[PAD]', '[PAD]', '[PAD]', '[PAD]', '[PAD]', '[PAD]', '[PAD]', '[PAD]', '[PAD]', '[PAD]', '[PAD]', '[PAD]', '[PAD]', '[PAD]', '[PAD]', '[PAD]', '[PAD]', '[PAD]', '[PAD]', '[PAD]', '[PAD]', '[PAD]', '[PAD]', '[PAD]', '[PAD]', '[PAD]', '[PAD]', '[PAD]', '[PAD]', '[PAD]', '[PAD]', '[PAD]', '[PAD]', '[PAD]', '[PAD]', '[PAD]', '[PAD]', '[PAD]', '[PAD]', '[PAD]', '[PAD]', '[PAD]', '[PAD]', '[PAD]', '[PAD]', '[PAD]']\n",
      "Token IDs: tensor([  101,  2057, 26438,  2135, 13260,  2017,  2000,  3422,  1037,  2569,\n",
      "         3179,  1997,  2408,  2859,  1012,   102,     0,     0,     0,     0,\n",
      "            0,     0,     0,     0,     0,     0,     0,     0,     0,     0,\n",
      "            0,     0,     0,     0,     0,     0,     0,     0,     0,     0,\n",
      "            0,     0,     0,     0,     0,     0,     0,     0,     0,     0,\n",
      "            0,     0,     0,     0,     0,     0,     0,     0,     0,     0,\n",
      "            0,     0,     0,     0,     0,     0,     0,     0,     0,     0,\n",
      "            0,     0,     0,     0,     0,     0,     0,     0,     0,     0,\n",
      "            0,     0,     0,     0,     0,     0,     0,     0,     0,     0,\n",
      "            0,     0,     0,     0,     0,     0,     0,     0,     0,     0,\n",
      "            0,     0,     0,     0,     0,     0,     0,     0,     0,     0,\n",
      "            0,     0,     0,     0,     0,     0,     0,     0,     0,     0,\n",
      "            0,     0,     0,     0,     0,     0,     0,     0])\n",
      "Labels: tensor([ 4,  5, 19, 43, 28,  6,  8, 32, 32, 32, 32, 32, 32, 32,  4,  4,  4,  4,\n",
      "         4,  4,  4,  4,  4,  4,  4,  4,  4,  4,  4,  4,  4,  4,  4,  4,  4,  4,\n",
      "         4,  4,  4,  4,  4,  4,  4,  4,  4,  4,  4,  4,  4,  4,  4,  4,  4,  4,\n",
      "         4,  4,  4,  4,  4,  4,  4,  4,  4,  4,  4,  4,  4,  4,  4,  4,  4,  4,\n",
      "         4,  4,  4,  4,  4,  4,  4,  4,  4,  4,  4,  4,  4,  4,  4,  4,  4,  4,\n",
      "         4,  4,  4,  4,  4,  4,  4,  4,  4,  4,  4,  4,  4,  4,  4,  4,  4,  4,\n",
      "         4,  4,  4,  4,  4,  4,  4,  4,  4,  4,  4,  4,  4,  4,  4,  4,  4,  4,\n",
      "         4,  4])\n",
      "Attention Mask: tensor([1, 1, 1, 1, 1, 1, 1, 1, 1, 1, 1, 1, 1, 1, 1, 1, 0, 0, 0, 0, 0, 0, 0, 0,\n",
      "        0, 0, 0, 0, 0, 0, 0, 0, 0, 0, 0, 0, 0, 0, 0, 0, 0, 0, 0, 0, 0, 0, 0, 0,\n",
      "        0, 0, 0, 0, 0, 0, 0, 0, 0, 0, 0, 0, 0, 0, 0, 0, 0, 0, 0, 0, 0, 0, 0, 0,\n",
      "        0, 0, 0, 0, 0, 0, 0, 0, 0, 0, 0, 0, 0, 0, 0, 0, 0, 0, 0, 0, 0, 0, 0, 0,\n",
      "        0, 0, 0, 0, 0, 0, 0, 0, 0, 0, 0, 0, 0, 0, 0, 0, 0, 0, 0, 0, 0, 0, 0, 0,\n",
      "        0, 0, 0, 0, 0, 0, 0, 0])\n",
      "Predicate Indicator: tensor([0, 0, 0, 0, 1, 0, 0, 0, 0, 0, 0, 0, 0, 0, 0, 0, 0, 0, 0, 0, 0, 0, 0, 0,\n",
      "        0, 0, 0, 0, 0, 0, 0, 0, 0, 0, 0, 0, 0, 0, 0, 0, 0, 0, 0, 0, 0, 0, 0, 0,\n",
      "        0, 0, 0, 0, 0, 0, 0, 0, 0, 0, 0, 0, 0, 0, 0, 0, 0, 0, 0, 0, 0, 0, 0, 0,\n",
      "        0, 0, 0, 0, 0, 0, 0, 0, 0, 0, 0, 0, 0, 0, 0, 0, 0, 0, 0, 0, 0, 0, 0, 0,\n",
      "        0, 0, 0, 0, 0, 0, 0, 0, 0, 0, 0, 0, 0, 0, 0, 0, 0, 0, 0, 0, 0, 0, 0, 0,\n",
      "        0, 0, 0, 0, 0, 0, 0, 0])\n",
      "\n",
      "\n",
      "Sample 1:\n",
      "Tokens: ['[CLS]', 'we', 'respectful', '##ly', 'invite', 'you', 'to', 'watch', 'a', 'special', 'edition', 'of', 'across', 'china', '.', '[SEP]', '[PAD]', '[PAD]', '[PAD]', '[PAD]', '[PAD]', '[PAD]', '[PAD]', '[PAD]', '[PAD]', '[PAD]', '[PAD]', '[PAD]', '[PAD]', '[PAD]', '[PAD]', '[PAD]', '[PAD]', '[PAD]', '[PAD]', '[PAD]', '[PAD]', '[PAD]', '[PAD]', '[PAD]', '[PAD]', '[PAD]', '[PAD]', '[PAD]', '[PAD]', '[PAD]', '[PAD]', '[PAD]', '[PAD]', '[PAD]', '[PAD]', '[PAD]', '[PAD]', '[PAD]', '[PAD]', '[PAD]', '[PAD]', '[PAD]', '[PAD]', '[PAD]', '[PAD]', '[PAD]', '[PAD]', '[PAD]', '[PAD]', '[PAD]', '[PAD]', '[PAD]', '[PAD]', '[PAD]', '[PAD]', '[PAD]', '[PAD]', '[PAD]', '[PAD]', '[PAD]', '[PAD]', '[PAD]', '[PAD]', '[PAD]', '[PAD]', '[PAD]', '[PAD]', '[PAD]', '[PAD]', '[PAD]', '[PAD]', '[PAD]', '[PAD]', '[PAD]', '[PAD]', '[PAD]', '[PAD]', '[PAD]', '[PAD]', '[PAD]', '[PAD]', '[PAD]', '[PAD]', '[PAD]', '[PAD]', '[PAD]', '[PAD]', '[PAD]', '[PAD]', '[PAD]', '[PAD]', '[PAD]', '[PAD]', '[PAD]', '[PAD]', '[PAD]', '[PAD]', '[PAD]', '[PAD]', '[PAD]', '[PAD]', '[PAD]', '[PAD]', '[PAD]', '[PAD]', '[PAD]', '[PAD]', '[PAD]', '[PAD]', '[PAD]', '[PAD]', '[PAD]']\n",
      "Token IDs: tensor([  101,  2057, 26438,  2135, 13260,  2017,  2000,  3422,  1037,  2569,\n",
      "         3179,  1997,  2408,  2859,  1012,   102,     0,     0,     0,     0,\n",
      "            0,     0,     0,     0,     0,     0,     0,     0,     0,     0,\n",
      "            0,     0,     0,     0,     0,     0,     0,     0,     0,     0,\n",
      "            0,     0,     0,     0,     0,     0,     0,     0,     0,     0,\n",
      "            0,     0,     0,     0,     0,     0,     0,     0,     0,     0,\n",
      "            0,     0,     0,     0,     0,     0,     0,     0,     0,     0,\n",
      "            0,     0,     0,     0,     0,     0,     0,     0,     0,     0,\n",
      "            0,     0,     0,     0,     0,     0,     0,     0,     0,     0,\n",
      "            0,     0,     0,     0,     0,     0,     0,     0,     0,     0,\n",
      "            0,     0,     0,     0,     0,     0,     0,     0,     0,     0,\n",
      "            0,     0,     0,     0,     0,     0,     0,     0,     0,     0,\n",
      "            0,     0,     0,     0,     0,     0,     0,     0])\n",
      "Labels: tensor([ 4,  4,  4,  4,  4,  5,  4, 28,  6, 30, 30, 30, 30, 30,  4,  4,  4,  4,\n",
      "         4,  4,  4,  4,  4,  4,  4,  4,  4,  4,  4,  4,  4,  4,  4,  4,  4,  4,\n",
      "         4,  4,  4,  4,  4,  4,  4,  4,  4,  4,  4,  4,  4,  4,  4,  4,  4,  4,\n",
      "         4,  4,  4,  4,  4,  4,  4,  4,  4,  4,  4,  4,  4,  4,  4,  4,  4,  4,\n",
      "         4,  4,  4,  4,  4,  4,  4,  4,  4,  4,  4,  4,  4,  4,  4,  4,  4,  4,\n",
      "         4,  4,  4,  4,  4,  4,  4,  4,  4,  4,  4,  4,  4,  4,  4,  4,  4,  4,\n",
      "         4,  4,  4,  4,  4,  4,  4,  4,  4,  4,  4,  4,  4,  4,  4,  4,  4,  4,\n",
      "         4,  4])\n",
      "Attention Mask: tensor([1, 1, 1, 1, 1, 1, 1, 1, 1, 1, 1, 1, 1, 1, 1, 1, 0, 0, 0, 0, 0, 0, 0, 0,\n",
      "        0, 0, 0, 0, 0, 0, 0, 0, 0, 0, 0, 0, 0, 0, 0, 0, 0, 0, 0, 0, 0, 0, 0, 0,\n",
      "        0, 0, 0, 0, 0, 0, 0, 0, 0, 0, 0, 0, 0, 0, 0, 0, 0, 0, 0, 0, 0, 0, 0, 0,\n",
      "        0, 0, 0, 0, 0, 0, 0, 0, 0, 0, 0, 0, 0, 0, 0, 0, 0, 0, 0, 0, 0, 0, 0, 0,\n",
      "        0, 0, 0, 0, 0, 0, 0, 0, 0, 0, 0, 0, 0, 0, 0, 0, 0, 0, 0, 0, 0, 0, 0, 0,\n",
      "        0, 0, 0, 0, 0, 0, 0, 0])\n",
      "Predicate Indicator: tensor([0, 0, 0, 0, 0, 0, 0, 1, 0, 0, 0, 0, 0, 0, 0, 0, 0, 0, 0, 0, 0, 0, 0, 0,\n",
      "        0, 0, 0, 0, 0, 0, 0, 0, 0, 0, 0, 0, 0, 0, 0, 0, 0, 0, 0, 0, 0, 0, 0, 0,\n",
      "        0, 0, 0, 0, 0, 0, 0, 0, 0, 0, 0, 0, 0, 0, 0, 0, 0, 0, 0, 0, 0, 0, 0, 0,\n",
      "        0, 0, 0, 0, 0, 0, 0, 0, 0, 0, 0, 0, 0, 0, 0, 0, 0, 0, 0, 0, 0, 0, 0, 0,\n",
      "        0, 0, 0, 0, 0, 0, 0, 0, 0, 0, 0, 0, 0, 0, 0, 0, 0, 0, 0, 0, 0, 0, 0, 0,\n",
      "        0, 0, 0, 0, 0, 0, 0, 0])\n",
      "\n",
      "\n",
      "Sample 2:\n",
      "Tokens: ['[CLS]', 'standing', 'tall', 'on', 'tai', '##hang', 'mountain', 'is', 'the', 'monument', 'to', 'the', 'hundred', 'regiments', 'offensive', '.', '[SEP]', '[PAD]', '[PAD]', '[PAD]', '[PAD]', '[PAD]', '[PAD]', '[PAD]', '[PAD]', '[PAD]', '[PAD]', '[PAD]', '[PAD]', '[PAD]', '[PAD]', '[PAD]', '[PAD]', '[PAD]', '[PAD]', '[PAD]', '[PAD]', '[PAD]', '[PAD]', '[PAD]', '[PAD]', '[PAD]', '[PAD]', '[PAD]', '[PAD]', '[PAD]', '[PAD]', '[PAD]', '[PAD]', '[PAD]', '[PAD]', '[PAD]', '[PAD]', '[PAD]', '[PAD]', '[PAD]', '[PAD]', '[PAD]', '[PAD]', '[PAD]', '[PAD]', '[PAD]', '[PAD]', '[PAD]', '[PAD]', '[PAD]', '[PAD]', '[PAD]', '[PAD]', '[PAD]', '[PAD]', '[PAD]', '[PAD]', '[PAD]', '[PAD]', '[PAD]', '[PAD]', '[PAD]', '[PAD]', '[PAD]', '[PAD]', '[PAD]', '[PAD]', '[PAD]', '[PAD]', '[PAD]', '[PAD]', '[PAD]', '[PAD]', '[PAD]', '[PAD]', '[PAD]', '[PAD]', '[PAD]', '[PAD]', '[PAD]', '[PAD]', '[PAD]', '[PAD]', '[PAD]', '[PAD]', '[PAD]', '[PAD]', '[PAD]', '[PAD]', '[PAD]', '[PAD]', '[PAD]', '[PAD]', '[PAD]', '[PAD]', '[PAD]', '[PAD]', '[PAD]', '[PAD]', '[PAD]', '[PAD]', '[PAD]', '[PAD]', '[PAD]', '[PAD]', '[PAD]', '[PAD]', '[PAD]', '[PAD]', '[PAD]', '[PAD]', '[PAD]']\n",
      "Token IDs: tensor([  101,  3061,  4206,  2006, 13843, 18003,  3137,  2003,  1996,  6104,\n",
      "         2000,  1996,  3634, 10435,  5805,  1012,   102,     0,     0,     0,\n",
      "            0,     0,     0,     0,     0,     0,     0,     0,     0,     0,\n",
      "            0,     0,     0,     0,     0,     0,     0,     0,     0,     0,\n",
      "            0,     0,     0,     0,     0,     0,     0,     0,     0,     0,\n",
      "            0,     0,     0,     0,     0,     0,     0,     0,     0,     0,\n",
      "            0,     0,     0,     0,     0,     0,     0,     0,     0,     0,\n",
      "            0,     0,     0,     0,     0,     0,     0,     0,     0,     0,\n",
      "            0,     0,     0,     0,     0,     0,     0,     0,     0,     0,\n",
      "            0,     0,     0,     0,     0,     0,     0,     0,     0,     0,\n",
      "            0,     0,     0,     0,     0,     0,     0,     0,     0,     0,\n",
      "            0,     0,     0,     0,     0,     0,     0,     0,     0,     0,\n",
      "            0,     0,     0,     0,     0,     0,     0,     0])\n",
      "Labels: tensor([ 4, 28, 12, 18, 42, 42, 42,  4,  4,  4,  4,  4,  4,  4,  4,  4,  4,  4,\n",
      "         4,  4,  4,  4,  4,  4,  4,  4,  4,  4,  4,  4,  4,  4,  4,  4,  4,  4,\n",
      "         4,  4,  4,  4,  4,  4,  4,  4,  4,  4,  4,  4,  4,  4,  4,  4,  4,  4,\n",
      "         4,  4,  4,  4,  4,  4,  4,  4,  4,  4,  4,  4,  4,  4,  4,  4,  4,  4,\n",
      "         4,  4,  4,  4,  4,  4,  4,  4,  4,  4,  4,  4,  4,  4,  4,  4,  4,  4,\n",
      "         4,  4,  4,  4,  4,  4,  4,  4,  4,  4,  4,  4,  4,  4,  4,  4,  4,  4,\n",
      "         4,  4,  4,  4,  4,  4,  4,  4,  4,  4,  4,  4,  4,  4,  4,  4,  4,  4,\n",
      "         4,  4])\n",
      "Attention Mask: tensor([1, 1, 1, 1, 1, 1, 1, 1, 1, 1, 1, 1, 1, 1, 1, 1, 1, 0, 0, 0, 0, 0, 0, 0,\n",
      "        0, 0, 0, 0, 0, 0, 0, 0, 0, 0, 0, 0, 0, 0, 0, 0, 0, 0, 0, 0, 0, 0, 0, 0,\n",
      "        0, 0, 0, 0, 0, 0, 0, 0, 0, 0, 0, 0, 0, 0, 0, 0, 0, 0, 0, 0, 0, 0, 0, 0,\n",
      "        0, 0, 0, 0, 0, 0, 0, 0, 0, 0, 0, 0, 0, 0, 0, 0, 0, 0, 0, 0, 0, 0, 0, 0,\n",
      "        0, 0, 0, 0, 0, 0, 0, 0, 0, 0, 0, 0, 0, 0, 0, 0, 0, 0, 0, 0, 0, 0, 0, 0,\n",
      "        0, 0, 0, 0, 0, 0, 0, 0])\n",
      "Predicate Indicator: tensor([0, 1, 0, 0, 0, 0, 0, 0, 0, 0, 0, 0, 0, 0, 0, 0, 0, 0, 0, 0, 0, 0, 0, 0,\n",
      "        0, 0, 0, 0, 0, 0, 0, 0, 0, 0, 0, 0, 0, 0, 0, 0, 0, 0, 0, 0, 0, 0, 0, 0,\n",
      "        0, 0, 0, 0, 0, 0, 0, 0, 0, 0, 0, 0, 0, 0, 0, 0, 0, 0, 0, 0, 0, 0, 0, 0,\n",
      "        0, 0, 0, 0, 0, 0, 0, 0, 0, 0, 0, 0, 0, 0, 0, 0, 0, 0, 0, 0, 0, 0, 0, 0,\n",
      "        0, 0, 0, 0, 0, 0, 0, 0, 0, 0, 0, 0, 0, 0, 0, 0, 0, 0, 0, 0, 0, 0, 0, 0,\n",
      "        0, 0, 0, 0, 0, 0, 0, 0])\n",
      "\n",
      "\n",
      "Sample 3:\n",
      "Tokens: ['[CLS]', 'standing', 'tall', 'on', 'tai', '##hang', 'mountain', 'is', 'the', 'monument', 'to', 'the', 'hundred', 'regiments', 'offensive', '.', '[SEP]', '[PAD]', '[PAD]', '[PAD]', '[PAD]', '[PAD]', '[PAD]', '[PAD]', '[PAD]', '[PAD]', '[PAD]', '[PAD]', '[PAD]', '[PAD]', '[PAD]', '[PAD]', '[PAD]', '[PAD]', '[PAD]', '[PAD]', '[PAD]', '[PAD]', '[PAD]', '[PAD]', '[PAD]', '[PAD]', '[PAD]', '[PAD]', '[PAD]', '[PAD]', '[PAD]', '[PAD]', '[PAD]', '[PAD]', '[PAD]', '[PAD]', '[PAD]', '[PAD]', '[PAD]', '[PAD]', '[PAD]', '[PAD]', '[PAD]', '[PAD]', '[PAD]', '[PAD]', '[PAD]', '[PAD]', '[PAD]', '[PAD]', '[PAD]', '[PAD]', '[PAD]', '[PAD]', '[PAD]', '[PAD]', '[PAD]', '[PAD]', '[PAD]', '[PAD]', '[PAD]', '[PAD]', '[PAD]', '[PAD]', '[PAD]', '[PAD]', '[PAD]', '[PAD]', '[PAD]', '[PAD]', '[PAD]', '[PAD]', '[PAD]', '[PAD]', '[PAD]', '[PAD]', '[PAD]', '[PAD]', '[PAD]', '[PAD]', '[PAD]', '[PAD]', '[PAD]', '[PAD]', '[PAD]', '[PAD]', '[PAD]', '[PAD]', '[PAD]', '[PAD]', '[PAD]', '[PAD]', '[PAD]', '[PAD]', '[PAD]', '[PAD]', '[PAD]', '[PAD]', '[PAD]', '[PAD]', '[PAD]', '[PAD]', '[PAD]', '[PAD]', '[PAD]', '[PAD]', '[PAD]', '[PAD]', '[PAD]', '[PAD]', '[PAD]', '[PAD]']\n",
      "Token IDs: tensor([  101,  3061,  4206,  2006, 13843, 18003,  3137,  2003,  1996,  6104,\n",
      "         2000,  1996,  3634, 10435,  5805,  1012,   102,     0,     0,     0,\n",
      "            0,     0,     0,     0,     0,     0,     0,     0,     0,     0,\n",
      "            0,     0,     0,     0,     0,     0,     0,     0,     0,     0,\n",
      "            0,     0,     0,     0,     0,     0,     0,     0,     0,     0,\n",
      "            0,     0,     0,     0,     0,     0,     0,     0,     0,     0,\n",
      "            0,     0,     0,     0,     0,     0,     0,     0,     0,     0,\n",
      "            0,     0,     0,     0,     0,     0,     0,     0,     0,     0,\n",
      "            0,     0,     0,     0,     0,     0,     0,     0,     0,     0,\n",
      "            0,     0,     0,     0,     0,     0,     0,     0,     0,     0,\n",
      "            0,     0,     0,     0,     0,     0,     0,     0,     0,     0,\n",
      "            0,     0,     0,     0,     0,     0,     0,     0,     0,     0,\n",
      "            0,     0,     0,     0,     0,     0,     0,     0])\n",
      "Labels: tensor([ 4,  4,  4,  4,  4,  4,  4, 28,  4,  4,  4,  4,  4,  4,  4,  4,  4,  4,\n",
      "         4,  4,  4,  4,  4,  4,  4,  4,  4,  4,  4,  4,  4,  4,  4,  4,  4,  4,\n",
      "         4,  4,  4,  4,  4,  4,  4,  4,  4,  4,  4,  4,  4,  4,  4,  4,  4,  4,\n",
      "         4,  4,  4,  4,  4,  4,  4,  4,  4,  4,  4,  4,  4,  4,  4,  4,  4,  4,\n",
      "         4,  4,  4,  4,  4,  4,  4,  4,  4,  4,  4,  4,  4,  4,  4,  4,  4,  4,\n",
      "         4,  4,  4,  4,  4,  4,  4,  4,  4,  4,  4,  4,  4,  4,  4,  4,  4,  4,\n",
      "         4,  4,  4,  4,  4,  4,  4,  4,  4,  4,  4,  4,  4,  4,  4,  4,  4,  4,\n",
      "         4,  4])\n",
      "Attention Mask: tensor([1, 1, 1, 1, 1, 1, 1, 1, 1, 1, 1, 1, 1, 1, 1, 1, 1, 0, 0, 0, 0, 0, 0, 0,\n",
      "        0, 0, 0, 0, 0, 0, 0, 0, 0, 0, 0, 0, 0, 0, 0, 0, 0, 0, 0, 0, 0, 0, 0, 0,\n",
      "        0, 0, 0, 0, 0, 0, 0, 0, 0, 0, 0, 0, 0, 0, 0, 0, 0, 0, 0, 0, 0, 0, 0, 0,\n",
      "        0, 0, 0, 0, 0, 0, 0, 0, 0, 0, 0, 0, 0, 0, 0, 0, 0, 0, 0, 0, 0, 0, 0, 0,\n",
      "        0, 0, 0, 0, 0, 0, 0, 0, 0, 0, 0, 0, 0, 0, 0, 0, 0, 0, 0, 0, 0, 0, 0, 0,\n",
      "        0, 0, 0, 0, 0, 0, 0, 0])\n",
      "Predicate Indicator: tensor([0, 0, 0, 0, 0, 0, 0, 1, 0, 0, 0, 0, 0, 0, 0, 0, 0, 0, 0, 0, 0, 0, 0, 0,\n",
      "        0, 0, 0, 0, 0, 0, 0, 0, 0, 0, 0, 0, 0, 0, 0, 0, 0, 0, 0, 0, 0, 0, 0, 0,\n",
      "        0, 0, 0, 0, 0, 0, 0, 0, 0, 0, 0, 0, 0, 0, 0, 0, 0, 0, 0, 0, 0, 0, 0, 0,\n",
      "        0, 0, 0, 0, 0, 0, 0, 0, 0, 0, 0, 0, 0, 0, 0, 0, 0, 0, 0, 0, 0, 0, 0, 0,\n",
      "        0, 0, 0, 0, 0, 0, 0, 0, 0, 0, 0, 0, 0, 0, 0, 0, 0, 0, 0, 0, 0, 0, 0, 0,\n",
      "        0, 0, 0, 0, 0, 0, 0, 0])\n",
      "\n",
      "\n",
      "Sample 4:\n",
      "Tokens: ['[CLS]', 'it', 'is', 'composed', 'of', 'a', 'primary', 'ste', '##le', ',', 'secondary', 'ste', '##les', ',', 'a', 'huge', 'round', 'sculpture', 'and', 'beacon', 'tower', ',', 'and', 'the', 'great', 'wall', ',', 'among', 'other', 'things', '.', '[SEP]', '[PAD]', '[PAD]', '[PAD]', '[PAD]', '[PAD]', '[PAD]', '[PAD]', '[PAD]', '[PAD]', '[PAD]', '[PAD]', '[PAD]', '[PAD]', '[PAD]', '[PAD]', '[PAD]', '[PAD]', '[PAD]', '[PAD]', '[PAD]', '[PAD]', '[PAD]', '[PAD]', '[PAD]', '[PAD]', '[PAD]', '[PAD]', '[PAD]', '[PAD]', '[PAD]', '[PAD]', '[PAD]', '[PAD]', '[PAD]', '[PAD]', '[PAD]', '[PAD]', '[PAD]', '[PAD]', '[PAD]', '[PAD]', '[PAD]', '[PAD]', '[PAD]', '[PAD]', '[PAD]', '[PAD]', '[PAD]', '[PAD]', '[PAD]', '[PAD]', '[PAD]', '[PAD]', '[PAD]', '[PAD]', '[PAD]', '[PAD]', '[PAD]', '[PAD]', '[PAD]', '[PAD]', '[PAD]', '[PAD]', '[PAD]', '[PAD]', '[PAD]', '[PAD]', '[PAD]', '[PAD]', '[PAD]', '[PAD]', '[PAD]', '[PAD]', '[PAD]', '[PAD]', '[PAD]', '[PAD]', '[PAD]', '[PAD]', '[PAD]', '[PAD]', '[PAD]', '[PAD]', '[PAD]', '[PAD]', '[PAD]', '[PAD]', '[PAD]', '[PAD]', '[PAD]', '[PAD]', '[PAD]', '[PAD]', '[PAD]', '[PAD]', '[PAD]']\n",
      "Token IDs: tensor([  101,  2009,  2003,  3605,  1997,  1037,  3078, 26261,  2571,  1010,\n",
      "         3905, 26261,  4244,  1010,  1037,  4121,  2461,  6743,  1998, 14400,\n",
      "         3578,  1010,  1998,  1996,  2307,  2813,  1010,  2426,  2060,  2477,\n",
      "         1012,   102,     0,     0,     0,     0,     0,     0,     0,     0,\n",
      "            0,     0,     0,     0,     0,     0,     0,     0,     0,     0,\n",
      "            0,     0,     0,     0,     0,     0,     0,     0,     0,     0,\n",
      "            0,     0,     0,     0,     0,     0,     0,     0,     0,     0,\n",
      "            0,     0,     0,     0,     0,     0,     0,     0,     0,     0,\n",
      "            0,     0,     0,     0,     0,     0,     0,     0,     0,     0,\n",
      "            0,     0,     0,     0,     0,     0,     0,     0,     0,     0,\n",
      "            0,     0,     0,     0,     0,     0,     0,     0,     0,     0,\n",
      "            0,     0,     0,     0,     0,     0,     0,     0,     0,     0,\n",
      "            0,     0,     0,     0,     0,     0,     0,     0])\n",
      "Labels: tensor([ 4,  6,  4, 28,  8, 32, 32, 32, 32, 32, 32, 32, 32, 32, 32, 32, 32, 32,\n",
      "        32, 32, 32, 32, 32, 32, 32, 32, 32, 32, 32, 32,  4,  4,  4,  4,  4,  4,\n",
      "         4,  4,  4,  4,  4,  4,  4,  4,  4,  4,  4,  4,  4,  4,  4,  4,  4,  4,\n",
      "         4,  4,  4,  4,  4,  4,  4,  4,  4,  4,  4,  4,  4,  4,  4,  4,  4,  4,\n",
      "         4,  4,  4,  4,  4,  4,  4,  4,  4,  4,  4,  4,  4,  4,  4,  4,  4,  4,\n",
      "         4,  4,  4,  4,  4,  4,  4,  4,  4,  4,  4,  4,  4,  4,  4,  4,  4,  4,\n",
      "         4,  4,  4,  4,  4,  4,  4,  4,  4,  4,  4,  4,  4,  4,  4,  4,  4,  4,\n",
      "         4,  4])\n",
      "Attention Mask: tensor([1, 1, 1, 1, 1, 1, 1, 1, 1, 1, 1, 1, 1, 1, 1, 1, 1, 1, 1, 1, 1, 1, 1, 1,\n",
      "        1, 1, 1, 1, 1, 1, 1, 1, 0, 0, 0, 0, 0, 0, 0, 0, 0, 0, 0, 0, 0, 0, 0, 0,\n",
      "        0, 0, 0, 0, 0, 0, 0, 0, 0, 0, 0, 0, 0, 0, 0, 0, 0, 0, 0, 0, 0, 0, 0, 0,\n",
      "        0, 0, 0, 0, 0, 0, 0, 0, 0, 0, 0, 0, 0, 0, 0, 0, 0, 0, 0, 0, 0, 0, 0, 0,\n",
      "        0, 0, 0, 0, 0, 0, 0, 0, 0, 0, 0, 0, 0, 0, 0, 0, 0, 0, 0, 0, 0, 0, 0, 0,\n",
      "        0, 0, 0, 0, 0, 0, 0, 0])\n",
      "Predicate Indicator: tensor([0, 0, 0, 1, 0, 0, 0, 0, 0, 0, 0, 0, 0, 0, 0, 0, 0, 0, 0, 0, 0, 0, 0, 0,\n",
      "        0, 0, 0, 0, 0, 0, 0, 0, 0, 0, 0, 0, 0, 0, 0, 0, 0, 0, 0, 0, 0, 0, 0, 0,\n",
      "        0, 0, 0, 0, 0, 0, 0, 0, 0, 0, 0, 0, 0, 0, 0, 0, 0, 0, 0, 0, 0, 0, 0, 0,\n",
      "        0, 0, 0, 0, 0, 0, 0, 0, 0, 0, 0, 0, 0, 0, 0, 0, 0, 0, 0, 0, 0, 0, 0, 0,\n",
      "        0, 0, 0, 0, 0, 0, 0, 0, 0, 0, 0, 0, 0, 0, 0, 0, 0, 0, 0, 0, 0, 0, 0, 0,\n",
      "        0, 0, 0, 0, 0, 0, 0, 0])\n",
      "\n",
      "\n"
     ]
    }
   ],
   "source": [
    "# Checking if the data are being properly read\n",
    "\n",
    "# Printing 5 samples from the dataset\n",
    "for i in range(5):  \n",
    "    sample = data[i]\n",
    "    print(f\"Sample {i}:\")\n",
    "    print(\"Tokens:\", data.tokenizer.convert_ids_to_tokens(sample['ids']))\n",
    "    print(\"Token IDs:\", sample['ids'])\n",
    "    print(\"Labels:\", sample['targets'])\n",
    "    print(\"Attention Mask:\", sample['mask'])\n",
    "    print(\"Predicate Indicator:\", sample['pred'])\n",
    "    print(\"\\n\")\n"
   ]
  },
  {
   "cell_type": "code",
   "execution_count": 9,
   "id": "fe2394a6",
   "metadata": {},
   "outputs": [
    {
     "name": "stdout",
     "output_type": "stream",
     "text": [
      "All samples are correctly formatted.\n"
     ]
    }
   ],
   "source": [
    "# Checking if all items have the correct length\n",
    "\n",
    "for i, item in enumerate(data):\n",
    "    assert len(item['ids']) == data.max_len, f\"Error in token length at index {i}\"\n",
    "    assert len(item['targets']) == data.max_len, f\"Error in label length at index {i}\"\n",
    "    assert len(item['mask']) == data.max_len, f\"Error in mask length at index {i}\"\n",
    "    assert len(item['pred']) == data.max_len, f\"Error in predicate indicator length at index {i}\"\n",
    "\n",
    "print(\"All samples are correctly formatted.\")\n"
   ]
  },
  {
   "cell_type": "markdown",
   "id": "0730aff9",
   "metadata": {},
   "source": [
    "## 2. Model Definition"
   ]
  },
  {
   "cell_type": "code",
   "execution_count": 10,
   "id": "cb11f9c0",
   "metadata": {},
   "outputs": [],
   "source": [
    "from torch.nn import Module, Linear, CrossEntropyLoss\n",
    "from transformers import BertModel"
   ]
  },
  {
   "cell_type": "markdown",
   "id": "da684eff",
   "metadata": {},
   "source": [
    "We will define the pyTorch model as a subclass of the [torch.nn.Module](https://pytorch.org/docs/stable/generated/torch.nn.Module.html) class. The code for the model is provided for you. It may help to take a look at the documentation to remind you of how Module works. Take a look at how the huggingface BERT model simply becomes another sub-module. "
   ]
  },
  {
   "cell_type": "code",
   "execution_count": 11,
   "id": "37515695",
   "metadata": {},
   "outputs": [],
   "source": [
    "class SrlModel(Module):\n",
    "    \n",
    "    def __init__(self):\n",
    "        \n",
    "        super(SrlModel, self).__init__()\n",
    "        \n",
    "        self.encoder = BertModel.from_pretrained(\"bert-base-uncased\")\n",
    "    \n",
    "        # The following two lines would freeze the BERT parameters and allow us to train the classifier by itself.\n",
    "        # We are fine-tuning the model, so you can leave this commented out!\n",
    "        # for param in self.encoder.parameters():\n",
    "        #    param.requires_grad = False\n",
    "        \n",
    "        # The linear classifier head, see model figure in the introduction. \n",
    "        self.classifier = Linear(768, len(role_to_id))\n",
    "                \n",
    "        \n",
    "    def forward(self, input_ids, attn_mask, pred_indicator):\n",
    "    \n",
    "        # This defines the flow of data through the model \n",
    "    \n",
    "        # Note the use of the \"token type ids\" which represents the segment encoding explained in the introduction. \n",
    "        # In our segment encoding, 1 indicates the predicate, and 0 indicates everything else. \n",
    "        bert_output =  self.encoder(input_ids=input_ids, attention_mask=attn_mask, token_type_ids=pred_indicator)\n",
    "\n",
    "        enc_tokens = bert_output[0] # the result of encoding the input with BERT\n",
    "        logits = self.classifier(enc_tokens) #feed into the classification layer to produce scores for each tag.\n",
    "        \n",
    "        # Note that we are only interested in the argmax for each token, so we do not have to normalize \n",
    "        # to a probability distribution using softmax. The CrossEntropyLoss loss function takes this into account.\n",
    "        # It essentially computes the softmax first and then computes the negative log-likelihood for the target classes. \n",
    "        return logits        "
   ]
  },
  {
   "cell_type": "code",
   "execution_count": 12,
   "id": "ba23ec3f",
   "metadata": {},
   "outputs": [
    {
     "name": "stderr",
     "output_type": "stream",
     "text": [
      "Some weights of the model checkpoint at bert-base-uncased were not used when initializing BertModel: ['cls.predictions.transform.dense.bias', 'cls.seq_relationship.bias', 'cls.predictions.bias', 'cls.predictions.transform.LayerNorm.weight', 'cls.predictions.transform.dense.weight', 'cls.predictions.transform.LayerNorm.bias', 'cls.seq_relationship.weight']\n",
      "- This IS expected if you are initializing BertModel from the checkpoint of a model trained on another task or with another architecture (e.g. initializing a BertForSequenceClassification model from a BertForPreTraining model).\n",
      "- This IS NOT expected if you are initializing BertModel from the checkpoint of a model that you expect to be exactly identical (initializing a BertForSequenceClassification model from a BertForSequenceClassification model).\n"
     ]
    }
   ],
   "source": [
    "model = SrlModel().to('cuda') # create new model and store weights in GPU memory"
   ]
  },
  {
   "cell_type": "markdown",
   "id": "9103d32e",
   "metadata": {},
   "source": [
    "Now we are ready to try running the model with just a single input example to check if it is working correctly. Clearly it has not been trained, so the output is not what we expect. But we can see what the loss looks like for an initial sanity check. \n",
    "\n",
    "**TODO**: \n",
    "* Take a single data item from the dev set, as provided by your Dataset class defined above. Obtain the input token ids, attention mask, predicate indicator mask, and target labels. \n",
    "* Run the model on the ids, attention mask, and predicate mask like this: "
   ]
  },
  {
   "cell_type": "code",
   "execution_count": 13,
   "id": "f1805480",
   "metadata": {},
   "outputs": [
    {
     "name": "stderr",
     "output_type": "stream",
     "text": [
      "Some weights of the model checkpoint at bert-base-uncased were not used when initializing BertModel: ['cls.predictions.transform.dense.bias', 'cls.seq_relationship.bias', 'cls.predictions.bias', 'cls.predictions.transform.LayerNorm.weight', 'cls.predictions.transform.dense.weight', 'cls.predictions.transform.LayerNorm.bias', 'cls.seq_relationship.weight']\n",
      "- This IS expected if you are initializing BertModel from the checkpoint of a model trained on another task or with another architecture (e.g. initializing a BertForSequenceClassification model from a BertForPreTraining model).\n",
      "- This IS NOT expected if you are initializing BertModel from the checkpoint of a model that you expect to be exactly identical (initializing a BertForSequenceClassification model from a BertForSequenceClassification model).\n"
     ]
    }
   ],
   "source": [
    "# pick an item from the dataset. Then run \n",
    "\n",
    "data = SrlData(\"propbank_dev.tsv\")  \n",
    "single_data_item = data[0] \n",
    "\n",
    "# Inputs for the model\n",
    "ids = single_data_item['ids'].unsqueeze(0).to('cuda')  \n",
    "mask = single_data_item['mask'].unsqueeze(0).to('cuda')\n",
    "pred = single_data_item['pred'].unsqueeze(0).to('cuda')\n",
    "  \n",
    "\n",
    "# Initializing the model\n",
    "model = SrlModel().to('cuda')\n",
    "outputs = model(ids, mask, pred)"
   ]
  },
  {
   "cell_type": "code",
   "execution_count": 14,
   "id": "4e1fa3be",
   "metadata": {},
   "outputs": [
    {
     "name": "stdout",
     "output_type": "stream",
     "text": [
      "Model outputs (logits): tensor([[[-0.3767, -0.3321, -0.2169,  ...,  0.0023,  0.3531,  0.4477],\n",
      "         [-0.0732, -0.0940, -0.0456,  ..., -0.2599, -0.0548,  0.6082],\n",
      "         [-0.0598,  0.4184,  0.1206,  ..., -0.3990, -0.0783,  0.4588],\n",
      "         ...,\n",
      "         [-0.2088,  0.0995,  0.1240,  ...,  0.1864,  0.2995,  0.2765],\n",
      "         [-0.2752,  0.1960,  0.2321,  ...,  0.0658,  0.2922,  0.2553],\n",
      "         [-0.2244,  0.0256,  0.1078,  ...,  0.2239,  0.2942,  0.2322]]],\n",
      "       device='cuda:0', grad_fn=<AddBackward0>)\n"
     ]
    }
   ],
   "source": [
    "print(\"Model outputs (logits):\", outputs)"
   ]
  },
  {
   "cell_type": "markdown",
   "id": "cd7fd38b",
   "metadata": {},
   "source": [
    "**TODO**: \n",
    "Compute the loss on this one item only.\n",
    "The initial loss should be close to -ln(1/num_labels)\n",
    "\n",
    "Without training we would assume that all labels for each token (including the target label) are equally likely, so the negative log probability for the targets should be approximately $$-\\ln(\\frac{1}{\\text{num_labels}}).$$ This is what the loss function should return on a single example. This is a good sanity check to run for any multi-class prediction problem. "
   ]
  },
  {
   "cell_type": "code",
   "execution_count": 15,
   "id": "1a5f881d",
   "metadata": {},
   "outputs": [],
   "source": [
    "import math\n",
    "# -math.log(1 / len(role_to_id), math.e)"
   ]
  },
  {
   "cell_type": "code",
   "execution_count": 16,
   "id": "1a124d4f",
   "metadata": {},
   "outputs": [
    {
     "name": "stdout",
     "output_type": "stream",
     "text": [
      "Initial loss: 4.207025051116943\n",
      "Expected initial loss: 3.970291913552122\n"
     ]
    }
   ],
   "source": [
    "# loss_function = CrossEntropyLoss(ignore_index = -100, reduction='mean')\n",
    "\n",
    "# complete this. Note that you still have to provide a (batch_size, input_pos) \n",
    "# tensor for each parameter, where batch_size =1\n",
    "\n",
    "num_labels = len(role_to_id)\n",
    "expected_initial_loss = -math.log(1 / num_labels, math.e)\n",
    "\n",
    "\n",
    "targets = single_data_item['targets'].unsqueeze(0).to('cuda')\n",
    "loss_function = CrossEntropyLoss(ignore_index=role_to_id['[PAD]'], reduction='mean')\n",
    "loss = loss_function(outputs.view(-1, num_labels), targets.view(-1))  \n",
    "\n",
    "\n",
    "print(\"Initial loss:\", loss.item())\n",
    "print(\"Expected initial loss:\", expected_initial_loss)\n",
    "\n",
    "# outputs = model(ids, mask, pred) \n",
    "# loss = loss_function(...)\n",
    "# loss.item()   #this should be approximately the score from the previous cell\n"
   ]
  },
  {
   "cell_type": "markdown",
   "id": "669a1037",
   "metadata": {},
   "source": [
    "**TODO**: At this point you should also obtain the actual predictions by taking the argmax over each position.\n",
    "The result should look something like this (values will differ).\n",
    "\n",
    "```\n",
    "tensor([[ 1,  4,  4,  4,  4,  4,  5, 29, 29, 29,  4, 28,  6, 32, 32, 32, 32, 32,\n",
    "         32, 32, 30, 30, 32, 30, 32,  4, 32, 32, 30,  4, 49,  4, 49, 32, 30,  4,\n",
    "         32,  4, 32, 32,  4,  2,  4,  4, 32,  4, 32, 32, 32, 32, 30, 32, 32, 30,\n",
    "         32,  4,  4, 49,  4,  4,  4,  4,  4,  4,  4,  4,  4,  4,  6,  6, 32, 32,\n",
    "         30, 32, 32, 32, 32, 32, 30, 30, 30, 32, 30, 49, 49, 32, 32, 30,  4,  4,\n",
    "          4,  4, 29,  4,  4,  4,  4,  4,  4, 32,  4,  4,  4, 32,  4, 30,  4, 32,\n",
    "         30,  4, 32,  4,  4,  4,  4,  4, 32,  4,  4,  4,  4,  4,  4,  4,  4,  4,\n",
    "          4,  4]], device='cuda:0')\n",
    "```\n",
    "\n",
    "Then use the id_to_role dictionary to decode to actual tokens. \n",
    "\n",
    "```\n",
    "['[CLS]', 'O', 'O', 'O', 'O', 'O', 'B-ARG0', 'I-ARG0', 'I-ARG0', 'I-ARG0', 'O', 'B-V', 'B-ARG1', 'I-ARG2', 'I-ARG2', 'I-ARG2', 'I-ARG2', 'I-ARG2', 'I-ARG2', 'I-ARG2', 'I-ARG1', 'I-ARG1', 'I-ARG2', 'I-ARG1', 'I-ARG2', 'O', 'I-ARG2', 'I-ARG2', 'I-ARG1', 'O', 'I-ARGM-TMP', 'O', 'I-ARGM-TMP', 'I-ARG2', 'I-ARG1', 'O', 'I-ARG2', 'O', 'I-ARG2', 'I-ARG2', 'O', '[SEP]', 'O', 'O', 'I-ARG2', 'O', 'I-ARG2', 'I-ARG2', 'I-ARG2', 'I-ARG2', 'I-ARG1', 'I-ARG2', 'I-ARG2', 'I-ARG1', 'I-ARG2', 'O', 'O', 'I-ARGM-TMP', 'O', 'O', 'O', 'O', 'O', 'O', 'O', 'O', 'O', 'O', 'B-ARG1', 'B-ARG1', 'I-ARG2', 'I-ARG2', 'I-ARG1', 'I-ARG2', 'I-ARG2', 'I-ARG2', 'I-ARG2', 'I-ARG2', 'I-ARG1', 'I-ARG1', 'I-ARG1', 'I-ARG2', 'I-ARG1', 'I-ARGM-TMP', 'I-ARGM-TMP', 'I-ARG2', 'I-ARG2', 'I-ARG1', 'O', 'O', 'O', 'O', 'I-ARG0', 'O', 'O', 'O', 'O', 'O', 'O', 'I-ARG2', 'O', 'O', 'O', 'I-ARG2', 'O', 'I-ARG1', 'O', 'I-ARG2', 'I-ARG1', 'O', 'I-ARG2', 'O', 'O', 'O', 'O', 'O', 'I-ARG2', 'O', 'O', 'O', 'O', 'O', 'O', 'O', 'O', 'O', 'O', 'O']\n",
    "```\n",
    "\n",
    "For now, just make sure you understand how to do this for a single example. Later, you will write a more formal function to do this once we have trained the model. "
   ]
  },
  {
   "cell_type": "code",
   "execution_count": 17,
   "id": "69c2dcc0",
   "metadata": {},
   "outputs": [
    {
     "name": "stdout",
     "output_type": "stream",
     "text": [
      "Predictions indices tensor: tensor([[43, 23, 28, 23, 23, 51,  8, 39, 40,  8, 23, 39, 51, 33, 34, 34, 39, 15,\n",
      "         39, 39, 39, 39, 48, 48, 22, 51, 39,  8, 20, 39, 51, 51, 51, 51, 39, 39,\n",
      "         51, 51, 51, 51, 11, 11, 11, 39, 39, 30, 39, 39, 30, 51, 39, 39, 39, 39,\n",
      "          9, 39, 39, 21, 39, 39, 30, 39, 39, 39, 51, 51, 43, 11, 11, 51, 11, 39,\n",
      "         39, 30, 39, 30, 30, 39, 39, 39, 39,  9,  9, 39,  9, 21,  9, 21, 39, 51,\n",
      "         30, 39, 39, 28, 51, 33, 11, 11, 11, 11, 39, 39, 39, 39, 51, 39, 30, 39,\n",
      "         39, 39,  9, 39, 21, 21, 39, 51, 21, 39, 39, 39, 39, 21, 39, 39, 28, 28,\n",
      "         28, 39]], device='cuda:0')\n",
      "Decoded labels: ['I-ARGM-MNR', 'B-ARGM-PRP', 'B-V', 'B-ARGM-PRP', 'B-ARGM-PRP', 'I-ARGM-LVB', 'B-ARG2', 'I-ARGM-DIS', 'I-ARGM-EXT', 'B-ARG2', 'B-ARGM-PRP', 'I-ARGM-DIS', 'I-ARGM-LVB', 'I-ARG3', 'I-ARG4', 'I-ARG4', 'I-ARGM-DIS', 'B-ARGM-DIS', 'I-ARGM-DIS', 'I-ARGM-DIS', 'I-ARGM-DIS', 'I-ARGM-DIS', 'I-ARGM-PRR', 'I-ARGM-PRR', 'B-ARGM-PRD', 'I-ARGM-LVB', 'I-ARGM-DIS', 'B-ARG2', 'B-ARGM-MOD', 'I-ARGM-DIS', 'I-ARGM-LVB', 'I-ARGM-LVB', 'I-ARGM-LVB', 'I-ARGM-LVB', 'I-ARGM-DIS', 'I-ARGM-DIS', 'I-ARGM-LVB', 'I-ARGM-LVB', 'I-ARGM-LVB', 'I-ARGM-LVB', 'B-ARGM-ADJ', 'B-ARGM-ADJ', 'B-ARGM-ADJ', 'I-ARGM-DIS', 'I-ARGM-DIS', 'I-ARG1', 'I-ARGM-DIS', 'I-ARGM-DIS', 'I-ARG1', 'I-ARGM-LVB', 'I-ARGM-DIS', 'I-ARGM-DIS', 'I-ARGM-DIS', 'I-ARGM-DIS', 'B-ARG3', 'I-ARGM-DIS', 'I-ARGM-DIS', 'B-ARGM-NEG', 'I-ARGM-DIS', 'I-ARGM-DIS', 'I-ARG1', 'I-ARGM-DIS', 'I-ARGM-DIS', 'I-ARGM-DIS', 'I-ARGM-LVB', 'I-ARGM-LVB', 'I-ARGM-MNR', 'B-ARGM-ADJ', 'B-ARGM-ADJ', 'I-ARGM-LVB', 'B-ARGM-ADJ', 'I-ARGM-DIS', 'I-ARGM-DIS', 'I-ARG1', 'I-ARGM-DIS', 'I-ARG1', 'I-ARG1', 'I-ARGM-DIS', 'I-ARGM-DIS', 'I-ARGM-DIS', 'I-ARGM-DIS', 'B-ARG3', 'B-ARG3', 'I-ARGM-DIS', 'B-ARG3', 'B-ARGM-NEG', 'B-ARG3', 'B-ARGM-NEG', 'I-ARGM-DIS', 'I-ARGM-LVB', 'I-ARG1', 'I-ARGM-DIS', 'I-ARGM-DIS', 'B-V', 'I-ARGM-LVB', 'I-ARG3', 'B-ARGM-ADJ', 'B-ARGM-ADJ', 'B-ARGM-ADJ', 'B-ARGM-ADJ', 'I-ARGM-DIS', 'I-ARGM-DIS', 'I-ARGM-DIS', 'I-ARGM-DIS', 'I-ARGM-LVB', 'I-ARGM-DIS', 'I-ARG1', 'I-ARGM-DIS', 'I-ARGM-DIS', 'I-ARGM-DIS', 'B-ARG3', 'I-ARGM-DIS', 'B-ARGM-NEG', 'B-ARGM-NEG', 'I-ARGM-DIS', 'I-ARGM-LVB', 'B-ARGM-NEG', 'I-ARGM-DIS', 'I-ARGM-DIS', 'I-ARGM-DIS', 'I-ARGM-DIS', 'B-ARGM-NEG', 'I-ARGM-DIS', 'I-ARGM-DIS', 'B-V', 'B-V', 'B-V', 'I-ARGM-DIS']\n"
     ]
    }
   ],
   "source": [
    "predictions = torch.argmax(outputs, dim=-1)  # Applying argmax to get the most likely label index for each position\n",
    "\n",
    "# Decoding these indices to their corresponding tags using 'id_to_role'\n",
    "decoded_labels = [id_to_role[idx.item()] for idx in predictions[0]]  \n",
    "\n",
    "print(\"Predictions indices tensor:\", predictions)\n",
    "print(\"Decoded labels:\", decoded_labels)\n"
   ]
  },
  {
   "cell_type": "markdown",
   "id": "20d52991",
   "metadata": {},
   "source": [
    "## 3. Training loop"
   ]
  },
  {
   "cell_type": "markdown",
   "id": "edba250d",
   "metadata": {},
   "source": [
    "pytorch provides a DataLoader class that can be wrapped around a Dataset to easily use the dataset for training. The DataLoader allows us to easily adjust the batch size and shuffle the data. "
   ]
  },
  {
   "cell_type": "code",
   "execution_count": 18,
   "id": "2ecd7448",
   "metadata": {},
   "outputs": [],
   "source": [
    "from torch.utils.data import DataLoader\n",
    "loader = DataLoader(data, batch_size = 32, shuffle = True)"
   ]
  },
  {
   "cell_type": "markdown",
   "id": "e7496c62",
   "metadata": {},
   "source": [
    "The following cell contains the main training loop. The code should work as written and report the loss after each batch, cumulative average loss after each 100 batches, and print out the final average loss after the epoch. \n",
    "\n",
    "**TODO**: Modify the training loop below so that it also computes the accuracy for each batch and reports the \n",
    "average accuracy after the epoch. \n",
    "The accuracy is the number of correctly predicted token labels out of the number of total predictions. \n",
    "Make sure you exclude [PAD] tokens, i.e. tokens for which the target label is -100. It's okay to include [CLS] and [SEP] in the accuracy calculation. "
   ]
  },
  {
   "cell_type": "code",
   "execution_count": 22,
   "id": "7a7abad9",
   "metadata": {
    "scrolled": true
   },
   "outputs": [],
   "source": [
    "from torch.nn import CrossEntropyLoss\n",
    "import torch.optim as optim\n",
    "from tqdm import tqdm\n",
    "\n",
    "\n",
    "loss_function = CrossEntropyLoss(ignore_index=-100, reduction='mean')\n",
    "LEARNING_RATE = 1e-05\n",
    "optimizer = torch.optim.AdamW(params=model.parameters(), lr=LEARNING_RATE)\n",
    "device = 'cuda'\n",
    "\n",
    "\n",
    "def train(loader, model):\n",
    "    \"\"\"\n",
    "    Train the model for one epoch, track and report batch loss, cumulative average loss,\n",
    "    and accuracy while excluding padding tokens from accuracy calculations.\n",
    "    \"\"\"\n",
    "    model.train()  # Set the model to training mode\n",
    "    tr_loss = 0\n",
    "    nb_tr_examples, nb_tr_steps = 0, 0\n",
    "    total_correct = 0\n",
    "    total_tokens = 0  # Total non-PAD tokens processed for accuracy calculation\n",
    "\n",
    "    # Using tqdm for a visual progress bar\n",
    "    for idx, batch in enumerate(tqdm(loader, desc=\"Training Progress\")):\n",
    "        ids = batch['ids'].to(device, dtype=torch.long)\n",
    "        mask = batch['mask'].to(device, dtype=torch.long)\n",
    "        targets = batch['targets'].to(device, dtype=torch.long)\n",
    "        pred_mask = batch['pred'].to(device, dtype=torch.long)\n",
    "\n",
    "        # Forward pass\n",
    "        logits = model(input_ids=ids, attn_mask=mask, pred_indicator=pred_mask)\n",
    "        loss = loss_function(logits.transpose(2, 1), targets)\n",
    "        tr_loss += loss.item()\n",
    "        \n",
    "        \n",
    "        nb_tr_steps += 1\n",
    "        nb_tr_examples += targets.size(0)\n",
    "        \n",
    "        # Accuracy\n",
    "        predictions = torch.argmax(logits, dim=2)\n",
    "        correct = (predictions == targets) & (targets != -100)\n",
    "        total_correct += correct.sum().item()\n",
    "        total_tokens += (targets != -100).sum().item()\n",
    "\n",
    "        # Log loss every 100 batches\n",
    "        if (idx + 1) % 100 == 0:\n",
    "            curr_avg_loss = tr_loss / nb_tr_steps\n",
    "            curr_avg_acc = total_correct / total_tokens * 100\n",
    "            print(f\"Batch {idx + 1}, Current average loss: {curr_avg_loss}, Current average accuracy: {curr_avg_acc:.2f}%\")\n",
    "        \n",
    "        # Backward and optimization\n",
    "        optimizer.zero_grad()\n",
    "        loss.backward()\n",
    "        optimizer.step()\n",
    "\n",
    "    # Final metrics for the epoch\n",
    "    epoch_loss = tr_loss / nb_tr_steps\n",
    "    epoch_accuracy = total_correct / total_tokens * 100 if total_tokens > 0 else 0\n",
    "    print(f\"Final Epoch Loss: {epoch_loss:.4f}, Final Epoch Accuracy: {epoch_accuracy:.2f}%\")\n",
    "\n",
    "\n"
   ]
  },
  {
   "cell_type": "markdown",
   "id": "890d12b0",
   "metadata": {},
   "source": [
    "Now let's train the model for one epoch. This will take a while (up to a few hours). "
   ]
  },
  {
   "cell_type": "code",
   "execution_count": 23,
   "id": "bef88882",
   "metadata": {},
   "outputs": [
    {
     "name": "stderr",
     "output_type": "stream",
     "text": [
      "Training Progress:   7%|▋         | 99/1365 [01:16<15:58,  1.32it/s]"
     ]
    },
    {
     "name": "stdout",
     "output_type": "stream",
     "text": [
      "Batch 100, Current average loss: 1.0329221260547639, Current average accuracy: 84.91%\n"
     ]
    },
    {
     "name": "stderr",
     "output_type": "stream",
     "text": [
      "Training Progress:  15%|█▍        | 199/1365 [02:33<14:47,  1.31it/s]"
     ]
    },
    {
     "name": "stdout",
     "output_type": "stream",
     "text": [
      "Batch 200, Current average loss: 0.7127039429545402, Current average accuracy: 88.16%\n"
     ]
    },
    {
     "name": "stderr",
     "output_type": "stream",
     "text": [
      "Training Progress:  22%|██▏       | 299/1365 [03:50<13:40,  1.30it/s]"
     ]
    },
    {
     "name": "stdout",
     "output_type": "stream",
     "text": [
      "Batch 300, Current average loss: 0.5963490285476049, Current average accuracy: 89.20%\n"
     ]
    },
    {
     "name": "stderr",
     "output_type": "stream",
     "text": [
      "Training Progress:  29%|██▉       | 399/1365 [05:06<12:16,  1.31it/s]"
     ]
    },
    {
     "name": "stdout",
     "output_type": "stream",
     "text": [
      "Batch 400, Current average loss: 0.531271528378129, Current average accuracy: 89.83%\n"
     ]
    },
    {
     "name": "stderr",
     "output_type": "stream",
     "text": [
      "Training Progress:  37%|███▋      | 499/1365 [06:23<11:02,  1.31it/s]"
     ]
    },
    {
     "name": "stdout",
     "output_type": "stream",
     "text": [
      "Batch 500, Current average loss: 0.48289074331521986, Current average accuracy: 90.44%\n"
     ]
    },
    {
     "name": "stderr",
     "output_type": "stream",
     "text": [
      "Training Progress:  44%|████▍     | 599/1365 [07:39<09:48,  1.30it/s]"
     ]
    },
    {
     "name": "stdout",
     "output_type": "stream",
     "text": [
      "Batch 600, Current average loss: 0.4487870288391908, Current average accuracy: 90.88%\n"
     ]
    },
    {
     "name": "stderr",
     "output_type": "stream",
     "text": [
      "Training Progress:  51%|█████     | 699/1365 [08:56<08:32,  1.30it/s]"
     ]
    },
    {
     "name": "stdout",
     "output_type": "stream",
     "text": [
      "Batch 700, Current average loss: 0.4225062993594578, Current average accuracy: 91.22%\n"
     ]
    },
    {
     "name": "stderr",
     "output_type": "stream",
     "text": [
      "Training Progress:  59%|█████▊    | 799/1365 [10:13<07:14,  1.30it/s]"
     ]
    },
    {
     "name": "stdout",
     "output_type": "stream",
     "text": [
      "Batch 800, Current average loss: 0.4000845035724342, Current average accuracy: 91.53%\n"
     ]
    },
    {
     "name": "stderr",
     "output_type": "stream",
     "text": [
      "Training Progress:  66%|██████▌   | 899/1365 [11:30<05:57,  1.30it/s]"
     ]
    },
    {
     "name": "stdout",
     "output_type": "stream",
     "text": [
      "Batch 900, Current average loss: 0.3806831186844243, Current average accuracy: 91.82%\n"
     ]
    },
    {
     "name": "stderr",
     "output_type": "stream",
     "text": [
      "Training Progress:  73%|███████▎  | 999/1365 [12:47<04:40,  1.30it/s]"
     ]
    },
    {
     "name": "stdout",
     "output_type": "stream",
     "text": [
      "Batch 1000, Current average loss: 0.3638682316839695, Current average accuracy: 92.08%\n"
     ]
    },
    {
     "name": "stderr",
     "output_type": "stream",
     "text": [
      "Training Progress:  81%|████████  | 1099/1365 [14:03<03:24,  1.30it/s]"
     ]
    },
    {
     "name": "stdout",
     "output_type": "stream",
     "text": [
      "Batch 1100, Current average loss: 0.349160625460473, Current average accuracy: 92.32%\n"
     ]
    },
    {
     "name": "stderr",
     "output_type": "stream",
     "text": [
      "Training Progress:  88%|████████▊ | 1199/1365 [15:20<02:07,  1.30it/s]"
     ]
    },
    {
     "name": "stdout",
     "output_type": "stream",
     "text": [
      "Batch 1200, Current average loss: 0.33521903516103824, Current average accuracy: 92.56%\n"
     ]
    },
    {
     "name": "stderr",
     "output_type": "stream",
     "text": [
      "Training Progress:  95%|█████████▌| 1299/1365 [16:36<00:50,  1.31it/s]"
     ]
    },
    {
     "name": "stdout",
     "output_type": "stream",
     "text": [
      "Batch 1300, Current average loss: 0.3227103732698239, Current average accuracy: 92.78%\n"
     ]
    },
    {
     "name": "stderr",
     "output_type": "stream",
     "text": [
      "Training Progress: 100%|██████████| 1365/1365 [17:27<00:00,  1.30it/s]"
     ]
    },
    {
     "name": "stdout",
     "output_type": "stream",
     "text": [
      "Final Epoch Loss: 0.3155, Final Epoch Accuracy: 92.90%\n"
     ]
    },
    {
     "name": "stderr",
     "output_type": "stream",
     "text": [
      "\n"
     ]
    }
   ],
   "source": [
    "train(loader, model)"
   ]
  },
  {
   "cell_type": "markdown",
   "id": "f8507d02",
   "metadata": {},
   "source": [
    "In my experiments, I found that two epochs are needed for good performance. "
   ]
  },
  {
   "cell_type": "code",
   "execution_count": 24,
   "id": "0070c530",
   "metadata": {},
   "outputs": [
    {
     "name": "stderr",
     "output_type": "stream",
     "text": [
      "Training Progress:   7%|▋         | 99/1365 [01:16<15:40,  1.35it/s]"
     ]
    },
    {
     "name": "stdout",
     "output_type": "stream",
     "text": [
      "Batch 100, Current average loss: 0.15658706426620483, Current average accuracy: 95.85%\n"
     ]
    },
    {
     "name": "stderr",
     "output_type": "stream",
     "text": [
      "Training Progress:  15%|█▍        | 199/1365 [02:33<14:40,  1.32it/s]"
     ]
    },
    {
     "name": "stdout",
     "output_type": "stream",
     "text": [
      "Batch 200, Current average loss: 0.1518608769029379, Current average accuracy: 95.93%\n"
     ]
    },
    {
     "name": "stderr",
     "output_type": "stream",
     "text": [
      "Training Progress:  22%|██▏       | 299/1365 [03:49<13:35,  1.31it/s]"
     ]
    },
    {
     "name": "stdout",
     "output_type": "stream",
     "text": [
      "Batch 300, Current average loss: 0.14824545969565708, Current average accuracy: 96.01%\n"
     ]
    },
    {
     "name": "stderr",
     "output_type": "stream",
     "text": [
      "Training Progress:  29%|██▉       | 399/1365 [05:05<12:16,  1.31it/s]"
     ]
    },
    {
     "name": "stdout",
     "output_type": "stream",
     "text": [
      "Batch 400, Current average loss: 0.1437301875092089, Current average accuracy: 96.14%\n"
     ]
    },
    {
     "name": "stderr",
     "output_type": "stream",
     "text": [
      "Training Progress:  37%|███▋      | 499/1365 [06:22<11:05,  1.30it/s]"
     ]
    },
    {
     "name": "stdout",
     "output_type": "stream",
     "text": [
      "Batch 500, Current average loss: 0.1412758931219578, Current average accuracy: 96.20%\n"
     ]
    },
    {
     "name": "stderr",
     "output_type": "stream",
     "text": [
      "Training Progress:  44%|████▍     | 599/1365 [07:39<09:48,  1.30it/s]"
     ]
    },
    {
     "name": "stdout",
     "output_type": "stream",
     "text": [
      "Batch 600, Current average loss: 0.13897002859661978, Current average accuracy: 96.26%\n"
     ]
    },
    {
     "name": "stderr",
     "output_type": "stream",
     "text": [
      "Training Progress:  51%|█████     | 699/1365 [08:55<08:28,  1.31it/s]"
     ]
    },
    {
     "name": "stdout",
     "output_type": "stream",
     "text": [
      "Batch 700, Current average loss: 0.13604259403688568, Current average accuracy: 96.34%\n"
     ]
    },
    {
     "name": "stderr",
     "output_type": "stream",
     "text": [
      "Training Progress:  59%|█████▊    | 799/1365 [10:12<07:12,  1.31it/s]"
     ]
    },
    {
     "name": "stdout",
     "output_type": "stream",
     "text": [
      "Batch 800, Current average loss: 0.13459020279347897, Current average accuracy: 96.38%\n"
     ]
    },
    {
     "name": "stderr",
     "output_type": "stream",
     "text": [
      "Training Progress:  66%|██████▌   | 899/1365 [11:28<05:56,  1.31it/s]"
     ]
    },
    {
     "name": "stdout",
     "output_type": "stream",
     "text": [
      "Batch 900, Current average loss: 0.13244851921995482, Current average accuracy: 96.43%\n"
     ]
    },
    {
     "name": "stderr",
     "output_type": "stream",
     "text": [
      "Training Progress:  73%|███████▎  | 999/1365 [12:45<04:39,  1.31it/s]"
     ]
    },
    {
     "name": "stdout",
     "output_type": "stream",
     "text": [
      "Batch 1000, Current average loss: 0.13016311029344796, Current average accuracy: 96.49%\n"
     ]
    },
    {
     "name": "stderr",
     "output_type": "stream",
     "text": [
      "Training Progress:  81%|████████  | 1099/1365 [14:01<03:22,  1.31it/s]"
     ]
    },
    {
     "name": "stdout",
     "output_type": "stream",
     "text": [
      "Batch 1100, Current average loss: 0.12843266845426776, Current average accuracy: 96.54%\n"
     ]
    },
    {
     "name": "stderr",
     "output_type": "stream",
     "text": [
      "Training Progress:  88%|████████▊ | 1199/1365 [15:17<02:06,  1.31it/s]"
     ]
    },
    {
     "name": "stdout",
     "output_type": "stream",
     "text": [
      "Batch 1200, Current average loss: 0.12651143576639393, Current average accuracy: 96.59%\n"
     ]
    },
    {
     "name": "stderr",
     "output_type": "stream",
     "text": [
      "Training Progress:  95%|█████████▌| 1299/1365 [16:34<00:50,  1.31it/s]"
     ]
    },
    {
     "name": "stdout",
     "output_type": "stream",
     "text": [
      "Batch 1300, Current average loss: 0.12440695476073485, Current average accuracy: 96.64%\n"
     ]
    },
    {
     "name": "stderr",
     "output_type": "stream",
     "text": [
      "Training Progress: 100%|██████████| 1365/1365 [17:24<00:00,  1.31it/s]"
     ]
    },
    {
     "name": "stdout",
     "output_type": "stream",
     "text": [
      "Final Epoch Loss: 0.1231, Final Epoch Accuracy: 96.67%\n"
     ]
    },
    {
     "name": "stderr",
     "output_type": "stream",
     "text": [
      "\n"
     ]
    }
   ],
   "source": [
    "train(loader, model) "
   ]
  },
  {
   "cell_type": "markdown",
   "id": "4005af14",
   "metadata": {},
   "source": [
    "I ended up with a training loss of about 0.19 and a training accuracy of 0.94. Specific values may differ. \n",
    "\n",
    "At this point, it's a good idea to save the model (or rather the parameter dictionary) so you can continue evaluating the model without having to retrain. "
   ]
  },
  {
   "cell_type": "code",
   "execution_count": 26,
   "id": "542403f2",
   "metadata": {},
   "outputs": [],
   "source": [
    "torch.save(model.state_dict(), \"srl_model_fulltrain_2epoch_finetune_1e-05.pt\")"
   ]
  },
  {
   "cell_type": "markdown",
   "id": "01dc1647",
   "metadata": {},
   "source": [
    "## 4. Decoding"
   ]
  },
  {
   "cell_type": "code",
   "execution_count": null,
   "id": "44d7b2cc",
   "metadata": {},
   "outputs": [],
   "source": [
    "# Optional step: If you stopped working after part 3, first load the trained model \n",
    "\n",
    "model = SrlModel().to('cuda') \n",
    "model.load_state_dict(torch.load(\"srl_model_fulltrain_2epoch_finetune_1e-05.pt\"))\n",
    "model = model.to('cuda')"
   ]
  },
  {
   "cell_type": "markdown",
   "id": "44e07781",
   "metadata": {},
   "source": [
    "**TODO (this is the fun part)**: Now that we have a trained model, let's try labeling an unseen example sentence. Complete the functions decode_output and label_sentence below. decode_output takes the logits returned by the model, extracts the argmax to obtain the label predictions for each token, and then translate the result into a list of string labels. \n",
    "\n",
    "label_sentence takes a list of input tokens and a predicate index, prepares the model input, call the model and then call decode_output to produce a final result. \n",
    "\n",
    "Note that you have already implemented all components necessary (preparing the input data from the token list and predicate index, decoding the model output). But now you are putting it together in one convenient function. "
   ]
  },
  {
   "cell_type": "code",
   "execution_count": null,
   "id": "b72fc567",
   "metadata": {},
   "outputs": [],
   "source": [
    "tokens = \"A U. N. team spent an hour inside the hospital , where it found evident signs of shelling and gunfire .\".split()"
   ]
  },
  {
   "cell_type": "code",
   "execution_count": null,
   "id": "9026d718",
   "metadata": {},
   "outputs": [],
   "source": [
    "def decode_output(logits): # it will be useful to have this in a separate function later on\n",
    "    \"\"\"\n",
    "    Given the model output, return a list of string labels for each token. \n",
    "    \"\"\"\n",
    "    pass\n",
    "    "
   ]
  },
  {
   "cell_type": "code",
   "execution_count": null,
   "id": "76f21f29",
   "metadata": {},
   "outputs": [],
   "source": [
    "def label_sentence(tokens, pred_idx):\n",
    "    \n",
    "    # complete this function to prepare token_ids, attention mask, predicate mask, then call the model. \n",
    "    # Decode the output to produce a list of labels. \n",
    "    pass\n",
    "        "
   ]
  },
  {
   "cell_type": "code",
   "execution_count": null,
   "id": "98431b63",
   "metadata": {},
   "outputs": [],
   "source": [
    "# Now you should be able to run\n",
    "\n",
    "label_test = label_sentence(tokens, 13) # Predicate is \"found\"\n",
    "zip(tokens, label_test)"
   ]
  },
  {
   "cell_type": "markdown",
   "id": "1d6c710b",
   "metadata": {},
   "source": [
    "The expected output is somethign like this: \n",
    "```   \n",
    " ('A', 'O'),\n",
    " ('U.', 'O'),\n",
    " ('N.', 'O'),\n",
    " ('team', 'O'),\n",
    " ('spent', 'O'),\n",
    " ('an', 'O'),\n",
    " ('hour', 'O'),\n",
    " ('inside', 'O'),\n",
    " ('the', 'B-ARGM-LOC'),\n",
    " ('hospital', 'I-ARGM-LOC'),\n",
    " (',', 'O'),\n",
    " ('where', 'B-ARGM-LOC'),\n",
    " ('it', 'B-ARG0'),\n",
    " ('found', 'B-V'),\n",
    " ('evident', 'B-ARG1'),\n",
    " ('signs', 'I-ARG1'),\n",
    " ('of', 'I-ARG1'),\n",
    " ('shelling', 'I-ARG1'),\n",
    " ('and', 'I-ARG1'),\n",
    " ('gunfire', 'I-ARG1'),\n",
    " ('.', 'O'),\n",
    "```\n"
   ]
  },
  {
   "cell_type": "markdown",
   "id": "b6c0237e",
   "metadata": {},
   "source": [
    "### 5. Evaluation 1: Token-Based Accuracy\n",
    "We want to evaluate the model on the dev or test set. "
   ]
  },
  {
   "cell_type": "code",
   "execution_count": null,
   "id": "cc7aa897",
   "metadata": {},
   "outputs": [],
   "source": [
    "dev_data = SrlData(\"propbank_dev.tsv\") # Takes a while because we preprocess all data offline"
   ]
  },
  {
   "cell_type": "code",
   "execution_count": null,
   "id": "dd62569e",
   "metadata": {},
   "outputs": [],
   "source": [
    "from torch.utils.data import DataLoader\n",
    "loader = DataLoader(dev_data, batch_size = 1, shuffle = False)"
   ]
  },
  {
   "cell_type": "code",
   "execution_count": null,
   "id": "4bcb3a78",
   "metadata": {},
   "outputs": [],
   "source": [
    "# Optional: Load the model again if you stopped working prior to this step. \n",
    "# model = SrlModel()\n",
    "# model.load_state_dict(torch.load(\"srl_model_fulltrain_2epoch_finetune_1e-05.pt\"))\n",
    "# model = mode.to('cuda')"
   ]
  },
  {
   "cell_type": "markdown",
   "id": "cc8ababd",
   "metadata": {},
   "source": [
    "**TODO**: Complete the evaluate_token_accuracy function below. The function should iterate through the items in the data loader (see training loop in part 3). Run the model on each sentence/predicate pair and extract the predictions.\n",
    "\n",
    "For each sentence, count the correct predictions and the total predictions. Finally, compute the accuracy as #correct_predictions / #total_predictions\n",
    "\n",
    "Careful: You need to filter out the padded positions ([PAD] target tokens), as well as [CLS] and [SEP]. It's okay to include [B-V] in the count though. "
   ]
  },
  {
   "cell_type": "code",
   "execution_count": null,
   "id": "fa091465",
   "metadata": {},
   "outputs": [],
   "source": [
    "def evaluate_token_accuracy(model, loader):\n",
    "    \n",
    "    model.eval() # put model in evaluation mode\n",
    "    \n",
    "    # for the accuracy \n",
    "    total_correct = 0 # number of correct token label predictions. \n",
    "    total_predictions = 0 # number of total predictions = number of tokens in the data. \n",
    "    \n",
    "    # iterate over the data here. \n",
    "\n",
    "    acc = total_correct / total_predictions\n",
    "    print(f\"Accuracy: {acc}\")\n",
    "    "
   ]
  },
  {
   "cell_type": "markdown",
   "id": "9fb27239",
   "metadata": {},
   "source": [
    "### 6. Span-Based evaluation \n",
    "\n",
    "While the accuracy score in part 5 is encouraging, an accuracy-based evaluation is problematic for two reasons. First, most of the target labels are actually O. Second, it only tells us that per-token prediction works, but does not directly evaluate the SRL performance. \n",
    "\n",
    "Instead, SRL systems are typically evaluated on micro-averaged precision, recall, and F1-score for predicting labeled spans. \n",
    "\n",
    "More specifically, for each sentence/predicate input, we run the model, decode the output, and extract a set of labeled spans (from the output and the target labels). These spans are (i,j,label) tuples.  \n",
    "\n",
    "We then compute the true_positives, false_positives, and false_negatives based on these spans. \n",
    "\n",
    "In the end, we can compute \n",
    "\n",
    "* Precision:  true_positive / (true_positives + false_positives)  , that is the number of correct spans out of all predicted spans. \n",
    "\n",
    "* Recall: true_positives / (true_positives + false_negatives) , that is the number of correct spans out of all target spans. \n",
    "\n",
    "* F1-score:   (2 * precision * recall) / (precision + recall)\n",
    "\n",
    "\n",
    "For example, consider \n",
    "\n",
    "| |[CLS]|The|judge|scheduled|to|preside|over|his|trial|was|removed|from|the|case|today|.|             \n",
    "|--||---|-----|---------|--|-------|----|---|-----|---|-------|----|---|----|-----|-|             \n",
    "||0|1|2|3|4|5|6|7|8|9|1O|11|12|13|14|15|\n",
    "|target|[CLS]|B-ARG1|I-ARG1|B-V|B-ARG2|I-ARG2|I-ARG2|I-ARG2|I-ARG2|O|O|O|O|O|O|O|\n",
    "|prediction|[CLS]|B-ARG1|I-ARG1|B-V|I-ARG2|I-ARG2|O|O|O|O|O|O|O|O|B-ARGM-TMP|O|\n",
    "\n",
    "The target spans are (1,2,\"ARG1\"), and (4,8,\"ARG2\").\n",
    "\n",
    "The predicted spans would be (1,2,\"ARG1\"), (14,14,\"ARGM-TMP\"). Note that in the prediction, there is no proper ARG2 span because we are missing the B-ARG2 token, so this span should not be created. \n",
    "\n",
    "So for this sentence we woudl get: true_positives: 1 false_positives: 1 false_negatives: 1\n",
    "\n",
    "*TODO*: Complete the function evaluate_spans that performs the span-based evaluation on the given model and data loader. You can use the provided extract_spans function, which returns the spans as a dictionary. For example\n",
    "{(1,2): \"ARG1\", (4,8):\"ARG2\"} "
   ]
  },
  {
   "cell_type": "code",
   "execution_count": null,
   "id": "379cfe6a",
   "metadata": {},
   "outputs": [],
   "source": [
    "def extract_spans(labels):\n",
    "    spans = {} # map (start,end) ids to label\n",
    "    current_span_start = 0\n",
    "    current_span_type = \"\"\n",
    "    inside = False\n",
    "    for i, label in enumerate(labels):\n",
    "        if label.startswith(\"B\"):            \n",
    "            if inside: \n",
    "                if current_span_type != \"V\":\n",
    "                    spans[(current_span_start,i)] = current_span_type            \n",
    "            current_span_start = i\n",
    "            current_span_type = label[2:]\n",
    "            inside = True\n",
    "        elif inside and label.startswith(\"O\"):\n",
    "            if current_span_type != \"V\":\n",
    "                spans[(current_span_start,i)] = current_span_type\n",
    "            inside = False\n",
    "        elif inside and label.startswith(\"I\") and label[2:] != current_span_type:            \n",
    "            if current_span_type != \"V\":\n",
    "                spans[(current_span_start,i)] = current_span_type\n",
    "            inside = False\n",
    "    return spans\n",
    "                        "
   ]
  },
  {
   "cell_type": "code",
   "execution_count": null,
   "id": "1a5486ca",
   "metadata": {},
   "outputs": [],
   "source": [
    "def evaluate_spans(model, loader):\n",
    "    \n",
    "    \n",
    "    total_tp = 0\n",
    "    total_fp = 0\n",
    "    total_fn = 0\n",
    "        \n",
    "    for idx, batch in enumerate(loader):\n",
    "        \n",
    "        pass # compelte this\n",
    "    \n",
    "    \n",
    "    total_p = total_tp / (total_tp + total_fp)\n",
    "    total_r = total_tp / (total_tp + total_fn)\n",
    "    total_f = (2 * total_p *total_r) / (total_p + total_r)\n",
    "            \n",
    "    print(f\"Overall P: {total_p}  Overall R: {total_r}  Overall F1: {total_f}\")\n",
    "    \n",
    "evaluate(model, loader)    "
   ]
  },
  {
   "cell_type": "markdown",
   "id": "c0e35d04",
   "metadata": {},
   "source": [
    "In my evaluation, I got an F score of 0.82  (which slightly below the state-of-the art in 2018)"
   ]
  },
  {
   "cell_type": "markdown",
   "id": "bd94c3a2",
   "metadata": {},
   "source": [
    "### OPTIONAL: \n",
    "\n",
    "Repeat the span-based evaluation, but print out precision/recall/f1-score for each role separately."
   ]
  }
 ],
 "metadata": {
  "kernelspec": {
   "display_name": "Python 3",
   "language": "python",
   "name": "python3"
  },
  "language_info": {
   "codemirror_mode": {
    "name": "ipython",
    "version": 3
   },
   "file_extension": ".py",
   "mimetype": "text/x-python",
   "name": "python",
   "nbconvert_exporter": "python",
   "pygments_lexer": "ipython3",
   "version": "3.7.12"
  }
 },
 "nbformat": 4,
 "nbformat_minor": 5
}
